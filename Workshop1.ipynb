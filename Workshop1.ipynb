{
 "metadata": {
  "name": "",
  "signature": "sha256:91ccb93e2ba2795bd6d1f8de44725c35a276b0de6210f6dfb67ceabb7d77384f"
 },
 "nbformat": 3,
 "nbformat_minor": 0,
 "worksheets": [
  {
   "cells": [
    {
     "cell_type": "markdown",
     "metadata": {},
     "source": [
      "Einf\u00fchrung in SciPy und SymPy\n",
      "=============================\n",
      "\n",
      "1. IPython Grundlagen\n",
      "---------------------\n",
      "\n",
      "IPython ist eine interaktive Shell f\u00fcr Python. Started man IPython mit\n",
      "\n",
      "`> ipython notebook`\n",
      "\n",
      "wird ein lokaler Webserver gestartet, so da\u00df man mit\n",
      "einem Browser neue Notebooks erstellen und editieren kann.\n",
      "\n",
      "Ein Notebook besteht aus mehreren \"Zellen\" (Cells) die Python-Code oder\n",
      "Markdown-formatierten Text enthalten k\u00f6nnen.\n"
     ]
    },
    {
     "cell_type": "code",
     "collapsed": false,
     "input": [
      "import numpy as np\n",
      "print(\"Introducing SciPy\")\n",
      "np"
     ],
     "language": "python",
     "metadata": {},
     "outputs": [
      {
       "output_type": "stream",
       "stream": "stdout",
       "text": [
        "Introducing SciPy\n"
       ]
      },
      {
       "metadata": {},
       "output_type": "pyout",
       "prompt_number": 16,
       "text": [
        "<module 'numpy' from '/home/speter/anaconda/lib/python2.7/site-packages/numpy/__init__.pyc'>"
       ]
      }
     ],
     "prompt_number": 16
    },
    {
     "cell_type": "markdown",
     "metadata": {},
     "source": [
      "Code-Zellen enthalten eine auch mehrzeilige Eingabe.\n",
      "\n",
      "Ausgef\u00fchrt wird der Code in der Zelle mit `CTRL + RETURN`.\n",
      "\n",
      "Eventuelle Ausgaben auf `sys.stdout` oder `sys.stderr` erscheinen direkt nach der Eingabebereich,\n",
      "und der letzte Ausdruck wird im gesonderten Ausgabebereich angezeigt"
     ]
    },
    {
     "cell_type": "code",
     "collapsed": false,
     "input": [
      "np?"
     ],
     "language": "python",
     "metadata": {},
     "outputs": [],
     "prompt_number": 19
    },
    {
     "cell_type": "markdown",
     "metadata": {},
     "source": [
      "2. numpy Arrays\n",
      "---------------\n",
      "\n",
      "Das Grundlegenste Objekt in numpy ist das `array`.\n",
      "Es ist ein mehrdimensionaler Container f\u00fcr Elemente des gleichen Typs."
     ]
    },
    {
     "cell_type": "code",
     "collapsed": false,
     "input": [
      "np.array?"
     ],
     "language": "python",
     "metadata": {},
     "outputs": [],
     "prompt_number": 20
    },
    {
     "cell_type": "code",
     "collapsed": false,
     "input": [
      "a = np.array([1,2,3,4], dtype=np.float32)\n",
      "a"
     ],
     "language": "python",
     "metadata": {},
     "outputs": [
      {
       "metadata": {},
       "output_type": "pyout",
       "prompt_number": 46,
       "text": [
        "array([ 1.,  2.,  3.,  4.], dtype=float32)"
       ]
      }
     ],
     "prompt_number": 46
    },
    {
     "cell_type": "code",
     "collapsed": false,
     "input": [
      "a.shape, a.dtype"
     ],
     "language": "python",
     "metadata": {},
     "outputs": [
      {
       "metadata": {},
       "output_type": "pyout",
       "prompt_number": 47,
       "text": [
        "((4,), dtype('float32'))"
       ]
      }
     ],
     "prompt_number": 47
    },
    {
     "cell_type": "code",
     "collapsed": false,
     "input": [
      "a.flags"
     ],
     "language": "python",
     "metadata": {},
     "outputs": [
      {
       "metadata": {},
       "output_type": "pyout",
       "prompt_number": 48,
       "text": [
        "  C_CONTIGUOUS : True\n",
        "  F_CONTIGUOUS : True\n",
        "  OWNDATA : True\n",
        "  WRITEABLE : True\n",
        "  ALIGNED : True\n",
        "  UPDATEIFCOPY : False"
       ]
      }
     ],
     "prompt_number": 48
    },
    {
     "cell_type": "code",
     "collapsed": false,
     "input": [
      "b = np.array(a, copy=False)\n",
      "b.flags"
     ],
     "language": "python",
     "metadata": {},
     "outputs": [
      {
       "metadata": {},
       "output_type": "pyout",
       "prompt_number": 49,
       "text": [
        "  C_CONTIGUOUS : True\n",
        "  F_CONTIGUOUS : True\n",
        "  OWNDATA : True\n",
        "  WRITEABLE : True\n",
        "  ALIGNED : True\n",
        "  UPDATEIFCOPY : False"
       ]
      }
     ],
     "prompt_number": 49
    },
    {
     "cell_type": "code",
     "collapsed": false,
     "input": [
      "b.dtype"
     ],
     "language": "python",
     "metadata": {},
     "outputs": [
      {
       "metadata": {},
       "output_type": "pyout",
       "prompt_number": 50,
       "text": [
        "dtype('float32')"
       ]
      }
     ],
     "prompt_number": 50
    },
    {
     "cell_type": "code",
     "collapsed": false,
     "input": [],
     "language": "python",
     "metadata": {},
     "outputs": []
    },
    {
     "cell_type": "code",
     "collapsed": false,
     "input": [
      "np.__version__"
     ],
     "language": "python",
     "metadata": {},
     "outputs": [
      {
       "metadata": {},
       "output_type": "pyout",
       "prompt_number": 8,
       "text": [
        "'1.9.0'"
       ]
      }
     ],
     "prompt_number": 8
    }
   ],
   "metadata": {}
  }
 ]
}