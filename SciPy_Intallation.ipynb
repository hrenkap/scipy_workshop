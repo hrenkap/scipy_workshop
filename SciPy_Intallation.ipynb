{
 "cells": [
  {
   "cell_type": "markdown",
   "metadata": {},
   "source": [
    "Installation mit [Anaconda](http://continuum.io/downloads)\n",
    "----------\n",
    "\n",
    "[Miniconda installer](http://conda.pydata.org/miniconda.html) herunterladen"
   ]
  },
  {
   "cell_type": "code",
   "execution_count": 1,
   "metadata": {
    "collapsed": false
   },
   "outputs": [
    {
     "name": "stdout",
     "output_type": "stream",
     "text": [
      "8eedd8fc03262c9529b47e6d6cdbd5d4  /home/peter/Downloads/Miniconda-latest-Linux-x86_64.sh\n",
      "9747ab2491a5bc6d39107e7efdf8ebdc  /home/peter/Downloads/Miniconda-latest-Linux-x86.sh\n"
     ]
    }
   ],
   "source": [
    "!md5sum /home/peter/Downloads/*"
   ]
  },
  {
   "cell_type": "code",
   "execution_count": 8,
   "metadata": {
    "collapsed": false
   },
   "outputs": [
    {
     "name": "stdout",
     "output_type": "stream",
     "text": [
      "PREFIX=/home/peter/miniconda\n",
      "installing: python-2.7.9-3 ...\n",
      "installing: conda-env-2.1.4-py27_0 ...\n",
      "installing: openssl-1.0.1k-1 ...\n",
      "installing: pycosat-0.6.1-py27_0 ...\n",
      "installing: pyyaml-3.11-py27_0 ...\n",
      "installing: readline-6.2-2 ...\n",
      "installing: requests-2.6.0-py27_0 ...\n",
      "installing: sqlite-3.8.4.1-1 ...\n",
      "installing: system-5.8-2 ...\n",
      "installing: tk-8.5.18-0 ...\n",
      "installing: yaml-0.1.4-0 ...\n",
      "installing: zlib-1.2.8-0 ...\n",
      "installing: conda-3.10.1-py27_0 ...\n",
      "Python 2.7.9 :: Continuum Analytics, Inc.\n",
      "creating default environment...\n",
      "installation finished.\n"
     ]
    }
   ],
   "source": [
    "!bash /home/peter/Downloads/Miniconda-latest-Linux-x86_64.sh -b"
   ]
  },
  {
   "cell_type": "markdown",
   "metadata": {},
   "source": [
    "Benötigte `conda` Packete installieren"
   ]
  },
  {
   "cell_type": "code",
   "execution_count": null,
   "metadata": {
    "collapsed": false
   },
   "outputs": [],
   "source": [
    "!conda install -y ipython numpy sympy matplotlib pyzmq jinja2 tornado jsonschema terminado pygments mistune"
   ]
  },
  {
   "cell_type": "markdown",
   "metadata": {},
   "source": [
    "MathJax lokal installieren"
   ]
  },
  {
   "cell_type": "code",
   "execution_count": null,
   "metadata": {
    "collapsed": false
   },
   "outputs": [],
   "source": [
    "from IPython.external.mathjax import install_mathjax\n",
    "install_mathjax()"
   ]
  }
 ],
 "metadata": {
  "kernelspec": {
   "display_name": "Python 2",
   "language": "python",
   "name": "python2"
  },
  "language_info": {
   "codemirror_mode": {
    "name": "ipython",
    "version": 2
   },
   "file_extension": ".py",
   "mimetype": "text/x-python",
   "name": "python",
   "nbconvert_exporter": "python",
   "pygments_lexer": "ipython2",
   "version": "2.7.10"
  }
 },
 "nbformat": 4,
 "nbformat_minor": 0
}
