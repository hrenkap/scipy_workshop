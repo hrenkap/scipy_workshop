{
 "cells": [
  {
   "cell_type": "markdown",
   "metadata": {},
   "source": [
    "Einführung in SciPy und SymPy\n",
    "=============================\n",
    "\n",
    "Peter Hrenka, TÜBIX 2015\n",
    "\n",
    "Repository auf [github](https://github.com/hrenkap/scipy_workshop)\n",
    "\n",
    "1. IPython Grundlagen\n",
    "------------------------\n",
    "\n",
    "[IPython](http://ipython.org/) ist eine interaktive Shell für Python. Startet man IPython mit\n",
    "\n",
    "`> ipython notebook`\n",
    "\n",
    "wird ein lokaler Webserver gestartet, so daß man mit\n",
    "einem Browser neue Notebooks erstellen und editieren kann.\n",
    "\n",
    "Es wird das asynchrone Python-Webserver [tornado](http://www.tornadoweb.org/en/stable/) verwendet, der eine Websocket-Verbindung mit dem Webbrowser herstellt. \n",
    "\n",
    "Für die Darstellung mathematischer Formeln wird [MathJax](http://www.mathjax.org/) verwendet, welches einen nützlichen Teil der $\\LaTeX$-Syntax versteht.\n",
    "\n",
    "Das Notebook wird über ipython zu einem `Kernel` verbunden, der in einem separaten laufenden Prozess läuft und die Python-Befehle ausführt. Es sind auch Kernel für [Julia](http://julialang.org/), [R](http://www.r-project.org/) und [Clang](https://github.com/minrk/clingkernel) und viele andere vorhanden.\n",
    "\n",
    "Ein Notebook besteht aus mehreren \"Zellen\" (Cells) die Python-Code oder\n",
    "[Markdown](https://en.wikipedia.org/wiki/Markdown)-formatierten Text enthalten können.\n"
   ]
  },
  {
   "cell_type": "code",
   "execution_count": null,
   "metadata": {
    "collapsed": false,
    "scrolled": false
   },
   "outputs": [],
   "source": [
    "import numpy as np\n",
    "print(np.__version__)\n",
    "np"
   ]
  },
  {
   "cell_type": "markdown",
   "metadata": {},
   "source": [
    "Code-Zellen enthalten eine auch mehrzeilige Eingabe.\n",
    "\n",
    "Ausgeführt wird der Code in der Zelle mit `CTRL + RETURN`.\n",
    "\n",
    "Eine neue Zelle erhält man mit `ALT + RETURN`.\n",
    "\n",
    "Eventuelle Ausgaben auf `sys.stdout` oder `sys.stderr` erscheinen direkt nach der Eingabebereich,\n",
    "und der letzte Ausdruck wird im gesonderten Ausgabebereich angezeigt.\n",
    "\n",
    "Wie `vi` unterscheidet `ipython` einen Kommando- und Edit-Modus:\n",
    "  * Im Kommando-Modus kann man mit den Pfeiltasten die Zellen wechseln, und etwa mit `dd` die aktelle Zelle löschen\n",
    "  * Mit `RETURN` oder Maus-Doppelklick kommt man in den Edit-Modus, den man mit `ESC` oder `CTRL + RETURN` verlassen kann"
   ]
  },
  {
   "cell_type": "code",
   "execution_count": null,
   "metadata": {
    "collapsed": false
   },
   "outputs": [],
   "source": [
    "# Interaktive Hilfe\n",
    "np?"
   ]
  },
  {
   "cell_type": "markdown",
   "metadata": {},
   "source": [
    "2. [numpy](http://www.numpy.org/)\n",
    "---------------\n",
    "\n",
    "`numpy` ist eine Python-Bibliothek die effiziente Arrays und darauf operierende Funktionen, die in C, C++ oder FORTRAN implementiert sind, in Python verfügbar macht. Sie steht unter der BSD-Lizenz. Mittlerweile ist sie (konzeptionell) ein Bestandteil von [SciPy](http://www.scipy.org/), kann aber meist separat installiert werden.\n",
    "\n",
    "`numpy` ist recht umfangreich und leider nicht sehr gut modularisiert, so dass man sich beim ersten Start nicht über einige Gedenksekunden wundern sollte.\n",
    "\n",
    "### Das Klasse `array`\n",
    "\n",
    "Das zentrale Objekt in `numpy` ist das `array` (in der Dokumentation auch oft noch `ndarray` genannt).\n",
    "Es ist ein mehrdimensionaler Container für Elemente des gleichen Datentyps."
   ]
  },
  {
   "cell_type": "code",
   "execution_count": null,
   "metadata": {
    "collapsed": false
   },
   "outputs": [],
   "source": [
    "np.array?"
   ]
  },
  {
   "cell_type": "code",
   "execution_count": null,
   "metadata": {
    "collapsed": false
   },
   "outputs": [],
   "source": [
    "a = np.array([1,2,3,4], dtype=np.float32)\n",
    "a"
   ]
  },
  {
   "cell_type": "code",
   "execution_count": null,
   "metadata": {
    "collapsed": false
   },
   "outputs": [],
   "source": [
    "a.shape, a.dtype"
   ]
  },
  {
   "cell_type": "code",
   "execution_count": null,
   "metadata": {
    "collapsed": false
   },
   "outputs": [],
   "source": [
    "a.flags"
   ]
  },
  {
   "cell_type": "code",
   "execution_count": null,
   "metadata": {
    "collapsed": false
   },
   "outputs": [],
   "source": [
    "b = a.reshape( (2,2) )\n",
    "b"
   ]
  },
  {
   "cell_type": "code",
   "execution_count": null,
   "metadata": {
    "collapsed": false
   },
   "outputs": [],
   "source": [
    "b.flags"
   ]
  },
  {
   "cell_type": "markdown",
   "metadata": {},
   "source": [
    "Man hieran erkennen, dass `a` eigene Daten besitzt (`OWNDATA: True`) und `b` nicht.\n",
    "Das spart natürlich Speicher, kann aber auch leicht zu schwer lokalisierbaren Fehlern führen,\n",
    "denn bei Änderungen an einem Objekt ändert sich auch das andere.\n"
   ]
  },
  {
   "cell_type": "code",
   "execution_count": null,
   "metadata": {
    "collapsed": false
   },
   "outputs": [],
   "source": [
    "c = np.array( np.reshape(a, (2,2)) )\n",
    "c.flags.owndata"
   ]
  },
  {
   "cell_type": "markdown",
   "metadata": {},
   "source": [
    "Lineare Bereiche kann man mit `linspace(start, stop, num)` erstellen.\n",
    "Man beachte, dass der Parameter `num` einen etwas willkürlichen Standardwert von 50 hat,\n",
    "und man daher besser immer die gewünsche Anzahl eingeben sollte."
   ]
  },
  {
   "cell_type": "code",
   "execution_count": null,
   "metadata": {
    "collapsed": false
   },
   "outputs": [],
   "source": [
    "lin = np.linspace(1.0, 42.0, 42)\n",
    "lin"
   ]
  },
  {
   "cell_type": "markdown",
   "metadata": {},
   "source": [
    "Arrays können über eckige Klammern indiziert werden. Pro Dimension kann die Slice-Syntax wie bei Python-Listen verwendet werden, `a[start:stop]` oder `a[start:stop:step]`. Der Wert dieses Ausdrucks ist wieder ein Array der entsprechenden Dimension.\n",
    "Solche Ausdrücke können auch das Ziel einer Zuweisung sein."
   ]
  },
  {
   "cell_type": "code",
   "execution_count": null,
   "metadata": {
    "collapsed": false
   },
   "outputs": [],
   "source": [
    "rect = np.reshape(lin, (6,7))\n",
    "rect"
   ]
  },
  {
   "cell_type": "code",
   "execution_count": null,
   "metadata": {
    "collapsed": false
   },
   "outputs": [],
   "source": [
    "# Alle Einträge von Zeile 1\n",
    "rect[1, :]"
   ]
  },
  {
   "cell_type": "code",
   "execution_count": null,
   "metadata": {
    "collapsed": false
   },
   "outputs": [],
   "source": [
    "# jeder zweite Eintrag von Spalte 3\n",
    "rect[::2, 2]"
   ]
  },
  {
   "cell_type": "code",
   "execution_count": null,
   "metadata": {
    "collapsed": false
   },
   "outputs": [],
   "source": [
    "cuboid = np.reshape(lin, (2,3,7))\n",
    "cuboid"
   ]
  },
  {
   "cell_type": "markdown",
   "metadata": {},
   "source": [
    "Zusätzlich zu konkreten Zahlen und Slices kann bei `arrays` auch die `Ellipsis` ... verwendet werden (die Offenbar nur für `numpy` in die Python-Grammatik eingebaut wurde). Diese entspricht der maximalen möglichen Anzahl an `:`-Slices und darf auch nur einmal vorkommen (analog zu `::` in IPv6)."
   ]
  },
  {
   "cell_type": "code",
   "execution_count": null,
   "metadata": {
    "collapsed": false
   },
   "outputs": [],
   "source": [
    "cuboid[1,...]"
   ]
  },
  {
   "cell_type": "code",
   "execution_count": null,
   "metadata": {
    "collapsed": false
   },
   "outputs": [],
   "source": [
    "cuboid[...,0]"
   ]
  },
  {
   "cell_type": "markdown",
   "metadata": {},
   "source": [
    "### Arithmetik mit `arrays`"
   ]
  },
  {
   "cell_type": "code",
   "execution_count": null,
   "metadata": {
    "collapsed": false
   },
   "outputs": [],
   "source": [
    "lin + 1"
   ]
  },
  {
   "cell_type": "markdown",
   "metadata": {},
   "source": [
    "Was ist da passiert? Die `1` wurde zu jedem Array-Element hinzuaddiert!\n",
    "\n",
    "Das Verhalten nennt sich `broadcasting`: Numpy versucht, die Dimension(en) der Operanden aneinander anzugleichen.\n",
    "\n",
    "In diesem Fall wird die `1` als array aufgefasst und die Dimension auf `42` erweitert."
   ]
  },
  {
   "cell_type": "code",
   "execution_count": null,
   "metadata": {
    "collapsed": false
   },
   "outputs": [],
   "source": [
    "np.broadcast(lin, 1).shape"
   ]
  },
  {
   "cell_type": "code",
   "execution_count": null,
   "metadata": {
    "collapsed": false
   },
   "outputs": [],
   "source": [
    "lin*lin"
   ]
  },
  {
   "cell_type": "markdown",
   "metadata": {},
   "source": [
    "Im Regelfall sind alle Operationen in `arrays` komponentenweise."
   ]
  },
  {
   "cell_type": "markdown",
   "metadata": {},
   "source": [
    "## Übung (Arrays)\n",
    "    a) Fülle das 2d-array mit einem Schachbrettmuster, wobei Schwarz=0, Weiß=1\n",
    "    b) Schreibe 2 auf die Positionen der Diagonale"
   ]
  },
  {
   "cell_type": "code",
   "execution_count": null,
   "metadata": {
    "collapsed": false
   },
   "outputs": [],
   "source": [
    "# Schachbrett\n",
    "chess = np.zeros((10,10))\n",
    "chess"
   ]
  },
  {
   "cell_type": "markdown",
   "metadata": {
    "collapsed": true
   },
   "source": [
    "## Beispiel: Die Mandelbrot-Menge\n",
    "\n",
    "Betrachte die Folgen $z_{n+1} = z_n + c$ für alle $c\\in \\mathbb{C}$, $-2 < \\textrm{Re } c < 1$, $-1 < \\textrm{Im } c < 1$\n",
    "\n",
    "Die 'Mandelbrot-Menge' ist die Menge aller $c$, für die $z_n$ beschränkt bleibt.\n",
    "\n",
    "Eine Python-Funktion, welche die Folge berechnet, kann man so schreiben:"
   ]
  },
  {
   "cell_type": "code",
   "execution_count": null,
   "metadata": {
    "collapsed": false
   },
   "outputs": [],
   "source": [
    "def mandel_series(c, numIter):\n",
    "    series = np.zeros(shape=(numIter,), dtype=np.complex128)\n",
    "    z = 0+0j\n",
    "    for i in range(numIter):\n",
    "        z = z*z + c\n",
    "        series[i] = z\n",
    "    return series\n",
    "mandel_series(0.5+0.4j, 10)"
   ]
  },
  {
   "cell_type": "markdown",
   "metadata": {},
   "source": [
    "Das funktioniert, ist aber wenig anschaulich.\n",
    "\n",
    "3. matplotlib\n",
    "----------\n",
    "\n",
    "Im `ipython`-Umfeld ist es sinnvoll, `matplotlib` über die zugehörige Direktive einzubinden\n",
    "und einige Abkürzungssymbole zu definieren.\n",
    "\n",
    "Matplotlib ist eine Python-Bibliothek, die unter einer BSD-artigen Lizenz steht und eine Reihe von Backends (wxPython, GTK+, Qt, …) unterstützt. Sie bietet eine ähnliche Funktionalität wie Gnuplot an, verwendet aber Python-Syntax und hat eine Reihe von Abhängigkeiten, zuvorderst `numpy`."
   ]
  },
  {
   "cell_type": "code",
   "execution_count": null,
   "metadata": {
    "collapsed": true
   },
   "outputs": [],
   "source": [
    "%matplotlib inline\n",
    "%config InlineBackend.figure_format = 'svg'\n",
    "\n",
    "import matplotlib as mp\n",
    "import matplotlib.pyplot as plt\n",
    "\n",
    "plt.rcParams['figure.figsize'] = 8,6 # Größe in Inches (!!!)"
   ]
  },
  {
   "cell_type": "markdown",
   "metadata": {},
   "source": [
    "Die Funktion `plt.plot` generiert einen Plot, der direkt im Notebook angezeigt wird."
   ]
  },
  {
   "cell_type": "code",
   "execution_count": null,
   "metadata": {
    "collapsed": false
   },
   "outputs": [],
   "source": [
    "s1 = mandel_series(0.2+0.5j, 100)\n",
    "plt.plot(s1.real, s1.imag)\n",
    "plt.show()"
   ]
  },
  {
   "cell_type": "code",
   "execution_count": null,
   "metadata": {
    "collapsed": false
   },
   "outputs": [],
   "source": [
    "plt.plot(np.abs(s1));"
   ]
  },
  {
   "cell_type": "code",
   "execution_count": null,
   "metadata": {
    "collapsed": false
   },
   "outputs": [],
   "source": [
    "s1 = mandel_series(0.2+0.5j, 100)\n",
    "\n",
    "plt.figure(figsize=(12,6))\n",
    "plt.subplot(1,2,1) # ncols, nrows, plot_number\n",
    "plt.title(\"Folge der $z_n$\")\n",
    "plt.plot(s1.real, s1.imag)\n",
    "plt.xlabel(\"$\\mathrm{Re} (z)$\")\n",
    "plt.ylabel(\"$\\mathrm{Im} (z)$\")\n",
    "\n",
    "plt.subplot(1,2,2)\n",
    "plt.title(\"Betrag von $z_n$\")\n",
    "plt.plot(np.abs(s1))\n",
    "plt.xlabel(\"Iteration\")\n",
    "plt.ylabel(\"$\\mathrm{abs} (z)$\")\n",
    "\n",
    "plt.show()"
   ]
  },
  {
   "cell_type": "code",
   "execution_count": null,
   "metadata": {
    "collapsed": false
   },
   "outputs": [],
   "source": [
    "s1 = mandel_series(0.30-0.3j, 100) # oder vielleicht 0.39-0.3j ?\n",
    "plt.plot(s1.real, s1.imag)\n",
    "plt.show()"
   ]
  },
  {
   "cell_type": "markdown",
   "metadata": {},
   "source": [
    "Damit können wir individuell feststellen, welche $c$s zur Mandelbrot-Menge gehören.\n",
    "\n",
    "Aber vielleicht erkennt man ja ein Muster, wenn man mehrere $c$ gleichzeitig berechnet…"
   ]
  },
  {
   "cell_type": "code",
   "execution_count": null,
   "metadata": {
    "collapsed": false
   },
   "outputs": [],
   "source": [
    "c = np.linspace(-2, 1, 800)+np.linspace(-1, 1, 600).reshape(600,1)*(0+1j)\n",
    "c.shape, c[0,0], c[599,799]"
   ]
  },
  {
   "cell_type": "code",
   "execution_count": null,
   "metadata": {
    "collapsed": false
   },
   "outputs": [],
   "source": [
    "def mandel(c):\n",
    "    z = np.zeros_like(c)\n",
    "    for i in range(10):\n",
    "        z = z*z + c\n",
    "    return z\n",
    "z = mandel(c)\n",
    "z[0,0]"
   ]
  },
  {
   "cell_type": "markdown",
   "metadata": {},
   "source": [
    "### Performancemessung in `ipython`\n",
    "\n",
    "Mit der `%timeit` Direktive kann man in IPython einfach die Geschwindigkeit einer Funktion messen:"
   ]
  },
  {
   "cell_type": "code",
   "execution_count": null,
   "metadata": {
    "collapsed": false
   },
   "outputs": [],
   "source": [
    "%timeit mandel(c)"
   ]
  },
  {
   "cell_type": "code",
   "execution_count": null,
   "metadata": {
    "collapsed": false
   },
   "outputs": [],
   "source": [
    "(abs(z)<100.0)"
   ]
  },
  {
   "cell_type": "code",
   "execution_count": null,
   "metadata": {
    "collapsed": false
   },
   "outputs": [],
   "source": [
    "ax = plt.imshow(np.log(abs(z)), extent=(-2,1,-1,1));\n",
    "plt.colorbar(ax)\n",
    "plt.show()"
   ]
  },
  {
   "cell_type": "code",
   "execution_count": null,
   "metadata": {
    "collapsed": false
   },
   "outputs": [],
   "source": [
    "plt.imshow(np.angle(z), extent=(-2,1,-1,1));"
   ]
  },
  {
   "cell_type": "code",
   "execution_count": null,
   "metadata": {
    "collapsed": true
   },
   "outputs": [],
   "source": [
    "def mandel2(c, numIter=10, maxabs=5):\n",
    "    z = c\n",
    "    num = np.zeros_like(c, dtype=np.int16)\n",
    "    for i in range(numIter):\n",
    "        mask = (abs(z)<maxabs)\n",
    "        z = mask*(z**2 + c)\n",
    "        num += (abs(z)<maxabs)\n",
    "    return z, num"
   ]
  },
  {
   "cell_type": "code",
   "execution_count": null,
   "metadata": {
    "collapsed": false
   },
   "outputs": [],
   "source": [
    "z, num = mandel2(c, 100, 5)\n",
    "plt.figure(figsize=(12,9))\n",
    "plt.imshow(num, extent=(-2,1,-1,1));"
   ]
  },
  {
   "cell_type": "code",
   "execution_count": null,
   "metadata": {
    "collapsed": false
   },
   "outputs": [],
   "source": [
    "plt.imshow(num, extent=(-2,1,-1,1));\n",
    "plt.axhline(0.2)\n",
    "plt.axvline(-0.75)\n",
    "plt.show()"
   ]
  },
  {
   "cell_type": "markdown",
   "metadata": {},
   "source": [
    "## Übung matplotlib\n",
    "  * Suche eine interessante Stelle im Apfelmännchen und markiere diese im Plot\n",
    "  * Suche neue Grenzen um diese Stelle herum, berechene neu und zeichne die Vergrößerung\n",
    "  * Bestimme und markiere einige Punkte in der Vergrößerung und plotte die zugehörigen Reihen"
   ]
  },
  {
   "cell_type": "code",
   "execution_count": null,
   "metadata": {
    "collapsed": true
   },
   "outputs": [],
   "source": []
  },
  {
   "cell_type": "markdown",
   "metadata": {
    "collapsed": true
   },
   "source": [
    "4. [SymPy](http://www.sympy.org/en/index.html)\n",
    "--------\n",
    "\n",
    "SymPy ist ein Computer Algebra System das in reinem Python geschrieben ist.\n",
    "  * BSD Lizensiert, als Bibliothek in (kommerzieller) Software nutzbar\n",
    "  * Leichtgewichtig (im Gegenastz zu [Sage](http://www.sagemath.org/)) "
   ]
  },
  {
   "cell_type": "code",
   "execution_count": null,
   "metadata": {
    "collapsed": false
   },
   "outputs": [],
   "source": [
    "import sympy as sp\n",
    "sp.init_printing()\n",
    "a, b, x, y = sp.symbols(\"a b x y\")\n",
    "a, b, x, y"
   ]
  },
  {
   "cell_type": "markdown",
   "metadata": {},
   "source": [
    "Die Variablen $a$, $b$, $x$ und $y$ sind nun symbolische Werte, mit denen man in Python-Syntax Ausdrücke und Gleichungen eingeben kann:"
   ]
  },
  {
   "cell_type": "code",
   "execution_count": null,
   "metadata": {
    "collapsed": false
   },
   "outputs": [],
   "source": [
    "greekSyms = sp.symbols(\"alpha beta gamma delta lamda Delta Sigma\")\n",
    "greekSyms"
   ]
  },
  {
   "cell_type": "code",
   "execution_count": null,
   "metadata": {
    "collapsed": false
   },
   "outputs": [],
   "source": [
    "alpha, beta, gamma = greekSyms[:3]"
   ]
  },
  {
   "cell_type": "code",
   "execution_count": null,
   "metadata": {
    "collapsed": false
   },
   "outputs": [],
   "source": [
    "f, g, h = sp.symbols(\"f g h\", cls=sp.Function)\n",
    "type(f)"
   ]
  },
  {
   "cell_type": "code",
   "execution_count": null,
   "metadata": {
    "collapsed": false
   },
   "outputs": [],
   "source": [
    "a+b, sp.diff(f(alpha)), sp.sqrt(a**2+b/gamma), sp.Eq(x+y,gamma), sp.Sum(x**a, (a, 1, b)), sp.Integral((1/x)**2,(x,1,sp.oo))"
   ]
  },
  {
   "cell_type": "markdown",
   "metadata": {},
   "source": [
    "Für Ausdrücke wie Integrale, die eventuell ausgewertet werden können, kann man mit der Methode `.doit()` diese Auswertung anstossen:"
   ]
  },
  {
   "cell_type": "code",
   "execution_count": null,
   "metadata": {
    "collapsed": false
   },
   "outputs": [],
   "source": [
    "intExpr = sp.Integral((1/x)**2,(x,1,sp.oo))\n",
    "sp.Eq(intExpr, intExpr.doit())"
   ]
  },
  {
   "cell_type": "code",
   "execution_count": null,
   "metadata": {
    "collapsed": false
   },
   "outputs": [],
   "source": [
    "rootExpr = sp.sqrt(a**2+b/gamma)\n",
    "sp.Eq(sp.Derivative(rootExpr, a), rootExpr.diff(a))"
   ]
  },
  {
   "cell_type": "markdown",
   "metadata": {},
   "source": [
    "*Merke*: Großgeschriebene Bezeichner (`Sum`, `Derivative`, `Integral`) erhalten die symbolische Operation,\n",
    "kleingeschriebene (`sum`, `diff`, `integrate`) Verben führen die Operation gleich durch.\n",
    "\n",
    "In SymPy-Ausdrücken kann man mit `sp.subst` konkrete Werte einsetzen:"
   ]
  },
  {
   "cell_type": "code",
   "execution_count": null,
   "metadata": {
    "collapsed": false
   },
   "outputs": [],
   "source": [
    "valDict = dict(a=sp.pi, b=sp.E)\n",
    "(a+b).subs(valDict)"
   ]
  },
  {
   "cell_type": "markdown",
   "metadata": {},
   "source": [
    "Wer es noch konkreter mag, kann `evalf` verwenden:"
   ]
  },
  {
   "cell_type": "code",
   "execution_count": null,
   "metadata": {
    "collapsed": false
   },
   "outputs": [],
   "source": [
    "(a+b).subs(valDict).evalf(100)"
   ]
  },
  {
   "cell_type": "code",
   "execution_count": null,
   "metadata": {
    "collapsed": false
   },
   "outputs": [],
   "source": [
    "binom = (a+b)**5\n",
    "binom.doit()"
   ]
  },
  {
   "cell_type": "markdown",
   "metadata": {},
   "source": [
    "`doit()` führt nur Berechnungen aus (wie Summen, Ableitungen und Integrale), für Umformungen stehen unter anderem Folgende Funktionen zur Verfügung:"
   ]
  },
  {
   "cell_type": "code",
   "execution_count": null,
   "metadata": {
    "collapsed": false
   },
   "outputs": [],
   "source": [
    "polynom = sp.expand(binom)\n",
    "polynom"
   ]
  },
  {
   "cell_type": "code",
   "execution_count": null,
   "metadata": {
    "collapsed": false
   },
   "outputs": [],
   "source": [
    "sp.factor(polynom)"
   ]
  },
  {
   "cell_type": "code",
   "execution_count": null,
   "metadata": {
    "collapsed": false
   },
   "outputs": [],
   "source": [
    "sp.tan(x).rewrite(sp.sin)"
   ]
  },
  {
   "cell_type": "markdown",
   "metadata": {},
   "source": [
    "Gleichungen kann man mittels `solve` nach einer Variable auflösen:"
   ]
  },
  {
   "cell_type": "code",
   "execution_count": null,
   "metadata": {
    "collapsed": false
   },
   "outputs": [],
   "source": [
    "quad = sp.Eq(x**2+a*x+b, 0)\n",
    "sp.solve(quad, x)"
   ]
  },
  {
   "cell_type": "code",
   "execution_count": null,
   "metadata": {
    "collapsed": false
   },
   "outputs": [],
   "source": [
    "sp.sin(x).series(x,n=10) #.removeO()"
   ]
  },
  {
   "cell_type": "markdown",
   "metadata": {},
   "source": [
    "### Zusammenspiel `sympy` und `numpy`\n",
    "\n",
    "Symbolische Berechnungen sind schön und gut, aber auch recht langsam.\n",
    "die Funktion `lambdify` kann einen `sympy`-Ausdruck in eine `numpy`-Funktion umwandeln, die man dann wie gehabt plotten kann."
   ]
  },
  {
   "cell_type": "code",
   "execution_count": null,
   "metadata": {
    "collapsed": false
   },
   "outputs": [],
   "source": [
    "def toLaTeX(symExpr):\n",
    "    return \"$\"+sp.latex(symExpr)+\"$\"\n",
    "\n",
    "domain = np.linspace(-4, 4, 1000)\n",
    "origFunc = sp.sin(x)\n",
    "numFunc = sp.lambdify(x, origFunc, \"numpy\")\n",
    "plt.plot(domain, numFunc(domain), label=toLaTeX(origFunc))\n",
    "plt.ylim([-1.0, 1.0])\n",
    "plt.axvline(x=0, color='black')\n",
    "plt.axhline(y=0, color='black')\n",
    "plt.legend()\n",
    "plt.show()"
   ]
  },
  {
   "cell_type": "code",
   "execution_count": null,
   "metadata": {
    "collapsed": false
   },
   "outputs": [],
   "source": [
    "domain = np.linspace(-4, 4, 1000)\n",
    "origFunc = sp.sin(x)\n",
    "numFunc = sp.lambdify(x, origFunc, \"numpy\")\n",
    "plt.plot(domain, numFunc(domain), label=toLaTeX(origFunc))\n",
    "for i in range(11)[3::2]:\n",
    "    symFunc = origFunc.series(x, n=i).removeO()\n",
    "    numFunc = sp.lambdify(x, symFunc, \"numpy\")\n",
    "    plt.plot(domain, numFunc(domain), label=toLaTeX(symFunc))\n",
    "plt.ylim([-2.0, 2.0])\n",
    "plt.axvline(x=0, color='black')\n",
    "plt.axhline(y=0, color='black')\n",
    "plt.legend(loc=(0.5,0))\n",
    "plt.show()"
   ]
  },
  {
   "cell_type": "markdown",
   "metadata": {},
   "source": [
    "### Übung Ableitungen von $\\sin(x)$\n",
    "\n",
    "Berechne die Abeitungen von $\\sin(x)$ für $x\\in\\{-3, -2, -1, 0, 1, 2, 3\\}$ und zeichne die Tangenten."
   ]
  },
  {
   "cell_type": "code",
   "execution_count": null,
   "metadata": {
    "collapsed": true
   },
   "outputs": [],
   "source": []
  },
  {
   "cell_type": "markdown",
   "metadata": {},
   "source": [
    "## Dateiformat von Notebooks\n",
    "\n",
    "Die Notebooks werden im im [JSON](https://en.wikipedia.org/wiki/JSON)-Format in Dateien mit der Endung `.ipynb` gespeichert.\n",
    "\n",
    "Diese lassen sich per \n",
    "\n",
    "`> ipython nbconvert --to latex|pdf|html` Dateiname.ipynb\n",
    "\n",
    "nach LaTeX, PDF, HTML und weitere Formate exportieren.\n",
    "\n",
    "Allerdings wird dafür eine funktionierende LaTeX-Installation sowie [pandoc](http://pandoc.org/) vorausgesetzt.\n",
    "\n",
    "Bilder und Formeln werden in einer String-Codierung gespeichert, wodurch Notebook-Files schnell anwachsen können. Um die Dateien klein zu halten und reproduzierbare Ergebnisse zu erhalten, kann man vor dem Speichern über `Cell -> All Output -> clear` die Ausgaben löschen und nach dem Laden `Cell -> Run All` ausführen."
   ]
  }
 ],
 "metadata": {
  "kernelspec": {
   "display_name": "Python 2",
   "language": "python",
   "name": "python2"
  },
  "language_info": {
   "codemirror_mode": {
    "name": "ipython",
    "version": 2
   },
   "file_extension": ".py",
   "mimetype": "text/x-python",
   "name": "python",
   "nbconvert_exporter": "python",
   "pygments_lexer": "ipython2",
   "version": "2.7.10"
  }
 },
 "nbformat": 4,
 "nbformat_minor": 0
}
